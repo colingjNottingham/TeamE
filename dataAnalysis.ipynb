{
 "cells": [
  {
   "cell_type": "markdown",
   "metadata": {},
   "source": [
    "### Block Release Exercise: Data Analysis Group\n",
    "\n",
    "This notebook is for the data analysis group. Your aim is to write code that will analyse the data produced by the other group. You will not work with the group until the end - the point of this task is that there is a clear definition (given below) of the \"interface format\" between your code and the data being produced by the other group's code. At the end of the day, you should be able to retrieve their file from GitHub and check whether your analysis works on it.\n",
    "\n",
    "The task is concerned with processing a file that contains a list of customers for an online coffe \n",
    "\n",
    "There are various tasks that you have to do. These are marked with \"Coding Task\" in the sheet."
   ]
  },
  {
   "cell_type": "markdown",
   "metadata": {},
   "source": [
    "##### Background Information: Interface Format\n",
    "\n",
    "The software interface between your work and the work by the other group consists of an csv formatted file, i.e. a file where on each row, entries are separated by commas, with a newline separating rows.The columns are: First Name, Last Name, Email, Address, Total Orders (in that order). Total orders is the number of coffee pods that the customer has ordered so far. The file will be called *cleanedCustomerData.csv*"
   ]
  },
  {
   "cell_type": "markdown",
   "metadata": {},
   "source": [
    "Coding Task: In the next block, import the Pandas library and call it \"pd\"."
   ]
  },
  {
   "cell_type": "code",
   "execution_count": 7,
   "metadata": {},
   "outputs": [],
   "source": [
    "import pandas as pd\n",
    "\n"
   ]
  },
  {
   "cell_type": "markdown",
   "metadata": {},
   "source": [
    "Preliminary Task: In order to test your code, you are going to need some example data. So, go into Excel and create a spreadsheet with the five columns mentioned in the *Interface Format* above. Create a couple of rows of data by making up names, etc. Make sure that when you save it, you save it as a *csv* file (not an Excel file) and that you call it *cleanedCustomerData.csv*. For now, it will only need to have a couple of example rows, but later on you might need to add more lines to test specific parts of your code. If you do this, remember to re-run your sheet from the beginning."
   ]
  },
  {
   "cell_type": "markdown",
   "metadata": {},
   "source": [
    "Coding Task: In the next block, import the sample customer data file that you have created into a Pandas DataFrame, give it the variable name *customers* and print it out to check that you have imported it correctly. You will need to find out how to read a csv file in Pandas."
   ]
  },
  {
   "cell_type": "code",
   "execution_count": 31,
   "metadata": {},
   "outputs": [
    {
     "data": {
      "text/html": [
       "<div>\n",
       "<style scoped>\n",
       "    .dataframe tbody tr th:only-of-type {\n",
       "        vertical-align: middle;\n",
       "    }\n",
       "\n",
       "    .dataframe tbody tr th {\n",
       "        vertical-align: top;\n",
       "    }\n",
       "\n",
       "    .dataframe thead th {\n",
       "        text-align: right;\n",
       "    }\n",
       "</style>\n",
       "<table border=\"1\" class=\"dataframe\">\n",
       "  <thead>\n",
       "    <tr style=\"text-align: right;\">\n",
       "      <th></th>\n",
       "      <th>Customer Name</th>\n",
       "      <th>Address</th>\n",
       "      <th>Email</th>\n",
       "      <th>Total Orders</th>\n",
       "      <th>Order Type</th>\n",
       "    </tr>\n",
       "  </thead>\n",
       "  <tbody>\n",
       "    <tr>\n",
       "      <th>0</th>\n",
       "      <td>Jaswinder Singh</td>\n",
       "      <td>37 Broadwide Road, Rummidge, RU6 7HG</td>\n",
       "      <td>JasSingh78@example.com</td>\n",
       "      <td>57</td>\n",
       "      <td>Individual</td>\n",
       "    </tr>\n",
       "    <tr>\n",
       "      <th>1</th>\n",
       "      <td>Mark Harper</td>\n",
       "      <td>Flat 5, Riverside House, Anytown, AN2 8NE</td>\n",
       "      <td>Mark.Harper@example.com</td>\n",
       "      <td>5</td>\n",
       "      <td>Packets</td>\n",
       "    </tr>\n",
       "    <tr>\n",
       "      <th>2</th>\n",
       "      <td>Melinda Nagy</td>\n",
       "      <td>77 Melton Road, Somecity, SM12 1HE</td>\n",
       "      <td>MelN@example.com</td>\n",
       "      <td>152</td>\n",
       "      <td>Ind.</td>\n",
       "    </tr>\n",
       "    <tr>\n",
       "      <th>3</th>\n",
       "      <td>Yichen Zhang</td>\n",
       "      <td>6/1 Braeside Court, Scotstoun, SC5 1HE</td>\n",
       "      <td>YZ41234253@example.com</td>\n",
       "      <td>17</td>\n",
       "      <td>Packets</td>\n",
       "    </tr>\n",
       "    <tr>\n",
       "      <th>4</th>\n",
       "      <td>Mark Harper</td>\n",
       "      <td>Flat 5, Riverside House, Anytown, AN2 8NE</td>\n",
       "      <td>Mark.Harper@example.com</td>\n",
       "      <td>5</td>\n",
       "      <td>Packets</td>\n",
       "    </tr>\n",
       "    <tr>\n",
       "      <th>5</th>\n",
       "      <td>Rebecca Jameson</td>\n",
       "      <td>The Old Rectory, Humbleside, Marksham, MA14 6LW</td>\n",
       "      <td>BeckyJamzie@example.com</td>\n",
       "      <td>271</td>\n",
       "      <td>Individual</td>\n",
       "    </tr>\n",
       "    <tr>\n",
       "      <th>6</th>\n",
       "      <td>Willem deVries</td>\n",
       "      <td>17 Parkside, Newtown-le-Willows, NL18 5TH</td>\n",
       "      <td>deVries1955@example.com</td>\n",
       "      <td>23</td>\n",
       "      <td>Packets</td>\n",
       "    </tr>\n",
       "    <tr>\n",
       "      <th>7</th>\n",
       "      <td>Jaswinder Singh</td>\n",
       "      <td>37 Broadwide Road, Rummidge, South Midlands, R...</td>\n",
       "      <td>JasSingh78@example.com</td>\n",
       "      <td>72</td>\n",
       "      <td>Individual</td>\n",
       "    </tr>\n",
       "    <tr>\n",
       "      <th>8</th>\n",
       "      <td>James Colton</td>\n",
       "      <td>19 Belton Street, Isle of Trees, IT2 5PQ</td>\n",
       "      <td>JimmyColton@example.com</td>\n",
       "      <td>6</td>\n",
       "      <td>Packets</td>\n",
       "    </tr>\n",
       "    <tr>\n",
       "      <th>9</th>\n",
       "      <td>Ethel Trellis</td>\n",
       "      <td>1 The Avenue, Foxley Estate, Rummidge, RU4 7WF</td>\n",
       "      <td>EthelsPlace@example.com</td>\n",
       "      <td>2</td>\n",
       "      <td>Packets</td>\n",
       "    </tr>\n",
       "  </tbody>\n",
       "</table>\n",
       "</div>"
      ],
      "text/plain": [
       "     Customer Name                                            Address  \\\n",
       "0  Jaswinder Singh               37 Broadwide Road, Rummidge, RU6 7HG   \n",
       "1      Mark Harper          Flat 5, Riverside House, Anytown, AN2 8NE   \n",
       "2     Melinda Nagy                 77 Melton Road, Somecity, SM12 1HE   \n",
       "3     Yichen Zhang             6/1 Braeside Court, Scotstoun, SC5 1HE   \n",
       "4      Mark Harper          Flat 5, Riverside House, Anytown, AN2 8NE   \n",
       "5  Rebecca Jameson    The Old Rectory, Humbleside, Marksham, MA14 6LW   \n",
       "6   Willem deVries          17 Parkside, Newtown-le-Willows, NL18 5TH   \n",
       "7  Jaswinder Singh  37 Broadwide Road, Rummidge, South Midlands, R...   \n",
       "8     James Colton           19 Belton Street, Isle of Trees, IT2 5PQ   \n",
       "9    Ethel Trellis     1 The Avenue, Foxley Estate, Rummidge, RU4 7WF   \n",
       "\n",
       "                     Email  Total Orders  Order Type  \n",
       "0   JasSingh78@example.com            57  Individual  \n",
       "1  Mark.Harper@example.com             5     Packets  \n",
       "2         MelN@example.com           152        Ind.  \n",
       "3   YZ41234253@example.com            17     Packets  \n",
       "4  Mark.Harper@example.com             5     Packets  \n",
       "5  BeckyJamzie@example.com           271  Individual  \n",
       "6  deVries1955@example.com            23     Packets  \n",
       "7   JasSingh78@example.com            72  Individual  \n",
       "8  JimmyColton@example.com             6     Packets  \n",
       "9  EthelsPlace@example.com             2     Packets  "
      ]
     },
     "execution_count": 31,
     "metadata": {},
     "output_type": "execute_result"
    }
   ],
   "source": [
    "\n",
    "df = pd.read_csv(\"CustomerData.csv\")\n",
    "df"
   ]
  },
  {
   "cell_type": "markdown",
   "metadata": {},
   "source": [
    "Coding task: In the next block, calculate and print the average (mean) number of orders for a customer."
   ]
  },
  {
   "cell_type": "code",
   "execution_count": 29,
   "metadata": {},
   "outputs": [
    {
     "data": {
      "text/plain": [
       "Total Orders    61.0\n",
       "dtype: float64"
      ]
     },
     "execution_count": 29,
     "metadata": {},
     "output_type": "execute_result"
    }
   ],
   "source": [
    "df.mean()\n"
   ]
  },
  {
   "cell_type": "markdown",
   "metadata": {},
   "source": [
    "Preliminary Example: In a lot of the code you are going to write below, you will need to loop through one or more columns of the DataFrame to look for particular patterns and make changes. The basic idea you will use a lot is a for loop with an *enumerate* function, which loops through each row of the dataframe and gives names to the current row and the item of interest, and the *at* function that takes a column name and row number and allows you to view or change that data point."
   ]
  },
  {
   "cell_type": "code",
   "execution_count": 28,
   "metadata": {},
   "outputs": [
    {
     "name": "stdout",
     "output_type": "stream",
     "text": [
      "37 Broadwide Road, Rummidge, RU6 7HG\n",
      "37 Broadwide Road, Rummidge, South Midlands, RU6 7HG\n",
      "1 The Avenue, Foxley Estate, Rummidge, RU4 7WF\n"
     ]
    }
   ],
   "source": [
    "address = df['Address']\n",
    "listAddress = list(address)\n",
    "for i in range(len(listAddress)):\n",
    "    if 'RU' in listAddress[i]:\n",
    "        print(listAddress[i])"
   ]
  },
  {
   "cell_type": "markdown",
   "metadata": {},
   "source": [
    "Preliminary Example: In the next step, we are going to split the address column into its parts. You do this using the \"split\" function in python, https://www.w3schools.com/python/ref_string_split.asp Here is an example:"
   ]
  },
  {
   "cell_type": "code",
   "execution_count": 19,
   "metadata": {},
   "outputs": [
    {
     "name": "stdout",
     "output_type": "stream",
     "text": [
      "['Colin', 'Johnson']\n"
     ]
    }
   ],
   "source": [
    "#example\n",
    "name = \"Colin Johnson\"\n",
    "splitName = name.split()\n",
    "print(splitName)"
   ]
  },
  {
   "cell_type": "markdown",
   "metadata": {},
   "source": [
    "Coding Task: Your company has decided to carry out a local promotion for customers living in the Rummidge area, i.e. anyone with a postcode beginning \"RU..\". By using the ideas from the two preliminary examples, and by looking up how substrings work (e.g. at https://www.freecodecamp.org/news/how-to-substring-a-string-in-python/), write code in the next block to select these customers and make a list of their email addresses. You will need to add a couple more examples to your test data so that you have examples both with and without these postcodes. If you are not familiar with UK postcodes, you will need to find out how they are formatted and where they are in the address."
   ]
  },
  {
   "cell_type": "code",
   "execution_count": 20,
   "metadata": {},
   "outputs": [
    {
     "name": "stdout",
     "output_type": "stream",
     "text": [
      "['37', 'Broadwide', 'Road,', 'Rummidge,', 'RU6', '7HG']\n",
      "['Flat', '5,', 'Riverside', 'House,', 'Anytown,', 'AN2', '8NE']\n",
      "['77', 'Melton', 'Road,', 'Somecity,', 'SM12', '1HE']\n",
      "['6/1', 'Braeside', 'Court,', 'Scotstoun,', 'SC5', '1HE']\n",
      "['Flat', '5,', 'Riverside', 'House,', 'Anytown,', 'AN2', '8NE']\n",
      "['The', 'Old', 'Rectory,', 'Humbleside,', 'Marksham,', 'MA14', '6LW']\n",
      "['17', 'Parkside,', 'Newtown-le-Willows,', 'NL18', '5TH']\n",
      "['37', 'Broadwide', 'Road,', 'Rummidge,', 'South', 'Midlands,', 'RU6', '7HG']\n",
      "['19', 'Belton', 'Street,', 'Isle', 'of', 'Trees,', 'IT2', '5PQ']\n",
      "['1', 'The', 'Avenue,', 'Foxley', 'Estate,', 'Rummidge,', 'RU4', '7WF']\n",
      "['RU6', 'AN2', 'SM12', 'SC5', 'AN2', 'MA14', 'NL18', 'RU6', 'IT2', 'RU4']\n",
      "JasSingh78@example.com\n",
      "JasSingh78@example.com\n",
      "EthelsPlace@example.com\n"
     ]
    }
   ],
   "source": [
    "Address=customers['Address']\n",
    "postcodes=[]\n",
    "for x in Address:\n",
    "    splitAddress=x.split()\n",
    "    print(splitAddress)\n",
    "    postcodes.append(splitAddress[-2])\n",
    "print(postcodes)\n",
    "\n",
    "for i,x in enumerate(postcodes):\n",
    "    if x.startswith('RU'):\n",
    "        print(customers.at[i,'Email'])\n"
   ]
  },
  {
   "cell_type": "markdown",
   "metadata": {},
   "source": [
    "Optional advanced extension task: You can automate email sending from Python - see https://realpython.com/python-send-email/. So, write code to actually send the emails (it is safe to do so, because they all use the \"example.com\" domain which is reserved for examples, so you won't accidentally send an email to a real person). You can check it works by putting your email adress in the \"Email\" column of your test file. This is a rather advanced task, so I would suggest that you leave this and return to it at the end once you have done everything else."
   ]
  },
  {
   "cell_type": "code",
   "execution_count": null,
   "metadata": {},
   "outputs": [],
   "source": [
    "#ANSWER to optional task"
   ]
  },
  {
   "cell_type": "markdown",
   "metadata": {},
   "source": [
    "Coding Task: Your team leader believes that customers in the northern sales region buy more coffee than those in the midlands sales region. Data matching the first two letters of postcodes to sales regions is in the *salesRegions.xlsx* file, which is on your team site on GitHub (you might find it useful to convert this to a Python dictionary, e.g. https://stackoverflow.com/questions/18012505/python-pandas-dataframe-columns-convert-to-dict-key-and-value). In the next block, write code to calculate the average sales for each region. Extension: If you are confident with statisical analysis, you could test whether the difference is statistically significant"
   ]
  },
  {
   "cell_type": "code",
   "execution_count": null,
   "metadata": {},
   "outputs": [],
   "source": [
    "#ANSWER"
   ]
  },
  {
   "cell_type": "markdown",
   "metadata": {},
   "source": [
    "Thinking Task: Would you conclude that there is enough evidence to support your team leader's conclusion? If not, what additional information would you need?"
   ]
  },
  {
   "cell_type": "markdown",
   "metadata": {},
   "source": [
    "#ANSWER"
   ]
  }
 ],
 "metadata": {
  "kernelspec": {
   "display_name": "Python 3",
   "language": "python",
   "name": "python3"
  },
  "language_info": {
   "codemirror_mode": {
    "name": "ipython",
    "version": 3
   },
   "file_extension": ".py",
   "mimetype": "text/x-python",
   "name": "python",
   "nbconvert_exporter": "python",
   "pygments_lexer": "ipython3",
   "version": "3.8.8"
  }
 },
 "nbformat": 4,
 "nbformat_minor": 4
}
