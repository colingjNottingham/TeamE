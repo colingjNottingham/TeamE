{
 "cells": [
  {
   "cell_type": "markdown",
   "metadata": {},
   "source": [
    "### Block Release Exercise: Preprocessing Group\n",
    "\n",
    "This notebook is for the pre-processing group. Your aim is to take the data contained in *customerlist.xlsx*, clean it up, and make it consistent with the interface format so that your data can be passed onto the other group at the end of the afternoon session. You should not communicate with the other group until the end of the task.\n",
    "\n",
    "There are various tasks that you have to do. These are marked with \"Coding Task\" in the sheet.\n",
    "\n",
    "You will need to start by downloading the initial version of the spreadsheet *customerList.xlsx* from the GitHub site; we will give your team a name and associated GitHub project. Check out a copy of this from GitHub, and make sure that you have it in the same folder as this notebook."
   ]
  },
  {
   "cell_type": "markdown",
   "metadata": {},
   "source": [
    "##### Background Information: Customer Spreadsheet\n",
    "\n",
    "The customer spreadsheet provided is for customers of an online coffee company. It has five columns: Customer Name, Address, Email, Total Orders, and Order Type. Customer total orders are either recorded by \"Individual\" number of coffee pods ordered, or by \"Packets\" that consist of 12 coffee pods.\n",
    "\n",
    "##### Background Information: Interface Format\n",
    "\n",
    "The software interface between your work and the work by the other group consists of an csv formatted file, i.e. a file where on each row, entries are separated by commas, with a newline separating rows.The columns are: First Name, Last Name, Email, Address, Total Orders (in that order). Total orders is in terms of individual numbers of pods. So, the output from running this notebook will need to be in that format. The file should be called *cleanedCustomerData.csv*"
   ]
  },
  {
   "cell_type": "markdown",
   "metadata": {},
   "source": [
    "Coding Task: in the next block, import the Pandas data processing library and name it \"pd\""
   ]
  },
  {
   "cell_type": "code",
   "execution_count": 2,
   "metadata": {
    "ExecuteTime": {
     "end_time": "2021-11-24T14:20:44.521825Z",
     "start_time": "2021-11-24T14:20:44.519861Z"
    }
   },
   "outputs": [],
   "source": [
    "#ANSWER\n",
    "import pandas as pd"
   ]
  },
  {
   "cell_type": "markdown",
   "metadata": {},
   "source": [
    "Coding Task: in the next block, read in the file \"customers.xlsx\" into a Pandas dataframe called customers, then print it out to make sure that you have read it in correctly."
   ]
  },
  {
   "cell_type": "code",
   "execution_count": 34,
   "metadata": {
    "ExecuteTime": {
     "end_time": "2021-11-24T14:57:47.794562Z",
     "start_time": "2021-11-24T14:57:47.779671Z"
    }
   },
   "outputs": [
    {
     "name": "stdout",
     "output_type": "stream",
     "text": [
      "     Customer Name                                            Address  \\\n",
      "0  Jaswinder Singh               37 Broadwide Road, Rummidge, RU6 7HG   \n",
      "1      Mark Harper          Flat 5, Riverside House, Anytown, AN2 8NE   \n",
      "2     Melinda Nagy                 77 Melton Road, Somecity, SM12 1HE   \n",
      "3     Yichen Zhang             6/1 Braeside Court, Scotstoun, SC5 1HE   \n",
      "4      Mark Harper          Flat 5, Riverside House, Anytown, AN2 8NE   \n",
      "5  Rebecca Jameson    The Old Rectory, Humbleside, Marksham, MA14 6LW   \n",
      "6   Willem deVries          17 Parkside, Newtown-le-Willows, NL18 5TH   \n",
      "7  Jaswinder Singh  37 Broadwide Road, Rummidge, South Midlands, R...   \n",
      "8     James Colton           19 Belton Street, Isle of Trees, IT2 5PQ   \n",
      "9    Ethel Trellis     1 The Avenue, Foxley Estate, Rummidge, RU4 7WF   \n",
      "\n",
      "                     Email  Total Orders  Order Type  \n",
      "0   JasSingh78@example.com            57  Individual  \n",
      "1  Mark.Harper@example.com             5     Packets  \n",
      "2         MelN@example.com           152        Ind.  \n",
      "3   YZ41234253@example.com            17     Packets  \n",
      "4  Mark.Harper@example.com             5     Packets  \n",
      "5  BeckyJamzie@example.com           271  Individual  \n",
      "6  deVries1955@example.com            23     Packets  \n",
      "7   JasSingh78@example.com            72  Individual  \n",
      "8  JimmyColton@example.com             6     Packets  \n",
      "9  EthelsPlace@example.com             2     Packets  \n"
     ]
    }
   ],
   "source": [
    "#ANSWER\n",
    "customers = pd.read_excel(\"customers.xlsx\")\n",
    "print(customers)"
   ]
  },
  {
   "cell_type": "markdown",
   "metadata": {},
   "source": [
    "The next few tasks are concerned with cleaning the data. Before you look at the step-to-step guidelines below, look at the data and decide where there are inconsistencies, duplicates, problems. Look at the output format and consider how the desired output format differs from the input format. Make some notes on this in the next block."
   ]
  },
  {
   "cell_type": "markdown",
   "metadata": {},
   "source": [
    "#ANSWER\n",
    "Duplicate customer - Mark Harper\n",
    "Customer registered twice - Jaswinder Singh appears twice with different address (we need to merge both entries)\n",
    "Email - lower and upper case\n",
    "Order type - different values for Individual (Ind. Individual)"
   ]
  },
  {
   "cell_type": "raw",
   "metadata": {},
   "source": [
    "Preliminary Example: In a lot of the code you are going to write below, you will need to loop through one or more columns of the DataFrame to look for particular patterns and make changes. The basic idea you will use a lot is a for loop with an *enumerate* function, which loops through each row of the dataframe and gives names to the current row and the item of interest, and the *at* function that takes a column name and row number and allows you to view or change that data point."
   ]
  },
  {
   "cell_type": "code",
   "execution_count": 35,
   "metadata": {
    "ExecuteTime": {
     "end_time": "2021-11-24T14:57:50.715328Z",
     "start_time": "2021-11-24T14:57:50.711839Z"
    }
   },
   "outputs": [
    {
     "name": "stdout",
     "output_type": "stream",
     "text": [
      "Individual\n",
      "Packets\n",
      "Ind.\n",
      "Packets\n",
      "Packets\n",
      "Individual\n",
      "Packets\n",
      "Individual\n",
      "Packets\n",
      "Packets\n"
     ]
    }
   ],
   "source": [
    "#example\n",
    "for i,c in enumerate(customers[\"Order Type\"]):\n",
    "    print(c)\n",
    "    #customers.at[i,\"Email\"] = \"blah\" # showing how to make a change\n",
    "    # don't uncomment the previous line or you will over-write all the email addresses!\n",
    "    "
   ]
  },
  {
   "cell_type": "markdown",
   "metadata": {},
   "source": [
    "Coding Task: Note that there is an error in the \"order type\" column, where instead of \"Individual\" one row says \"Ind.\". Write code to loop though the column and change this. Don't just change that one example by setting the value directly - write code so that it will catch any instance of this. Use the example above as a starting point, but clearly you will have to make some changes to it."
   ]
  },
  {
   "cell_type": "code",
   "execution_count": 36,
   "metadata": {
    "ExecuteTime": {
     "end_time": "2021-11-24T14:57:52.260493Z",
     "start_time": "2021-11-24T14:57:52.255668Z"
    }
   },
   "outputs": [
    {
     "name": "stdout",
     "output_type": "stream",
     "text": [
      "     Customer Name                                            Address  \\\n",
      "0  Jaswinder Singh               37 Broadwide Road, Rummidge, RU6 7HG   \n",
      "1      Mark Harper          Flat 5, Riverside House, Anytown, AN2 8NE   \n",
      "2     Melinda Nagy                 77 Melton Road, Somecity, SM12 1HE   \n",
      "3     Yichen Zhang             6/1 Braeside Court, Scotstoun, SC5 1HE   \n",
      "4      Mark Harper          Flat 5, Riverside House, Anytown, AN2 8NE   \n",
      "5  Rebecca Jameson    The Old Rectory, Humbleside, Marksham, MA14 6LW   \n",
      "6   Willem deVries          17 Parkside, Newtown-le-Willows, NL18 5TH   \n",
      "7  Jaswinder Singh  37 Broadwide Road, Rummidge, South Midlands, R...   \n",
      "8     James Colton           19 Belton Street, Isle of Trees, IT2 5PQ   \n",
      "9    Ethel Trellis     1 The Avenue, Foxley Estate, Rummidge, RU4 7WF   \n",
      "\n",
      "                     Email  Total Orders  Order Type  \n",
      "0   JasSingh78@example.com            57  Individual  \n",
      "1  Mark.Harper@example.com             5     Packets  \n",
      "2         MelN@example.com           152  Individual  \n",
      "3   YZ41234253@example.com            17     Packets  \n",
      "4  Mark.Harper@example.com             5     Packets  \n",
      "5  BeckyJamzie@example.com           271  Individual  \n",
      "6  deVries1955@example.com            23     Packets  \n",
      "7   JasSingh78@example.com            72  Individual  \n",
      "8  JimmyColton@example.com             6     Packets  \n",
      "9  EthelsPlace@example.com             2     Packets  \n"
     ]
    }
   ],
   "source": [
    "#ANSWER \n",
    "for i,c in enumerate(customers[\"Order Type\"]):\n",
    "    if(customers.at[i,\"Order Type\"] == \"Ind.\"):\n",
    "        customers.at[i,\"Order Type\"] = \"Individual\"\n",
    "print(customers)"
   ]
  },
  {
   "cell_type": "markdown",
   "metadata": {},
   "source": [
    "Preliminary example: *iterrows()* is a function on a dataframe that we can use alongside a for loop to go through each of the items in a dataframe, giving us both the row number (often called the *index* of that line) and the data on the row itself. Here is an example, where we print out the data."
   ]
  },
  {
   "cell_type": "code",
   "execution_count": 37,
   "metadata": {
    "ExecuteTime": {
     "end_time": "2021-11-24T14:57:53.788426Z",
     "start_time": "2021-11-24T14:57:53.784293Z"
    }
   },
   "outputs": [
    {
     "name": "stdout",
     "output_type": "stream",
     "text": [
      "0\n",
      "['Jaswinder Singh', '37 Broadwide Road, Rummidge, RU6 7HG', 'JasSingh78@example.com', 57, 'Individual']\n",
      "1\n",
      "['Mark Harper', 'Flat 5, Riverside House, Anytown, AN2 8NE', 'Mark.Harper@example.com', 5, 'Packets']\n",
      "2\n",
      "['Melinda Nagy', '77 Melton Road, Somecity, SM12 1HE', 'MelN@example.com', 152, 'Individual']\n",
      "3\n",
      "['Yichen Zhang', '6/1 Braeside Court, Scotstoun, SC5 1HE', 'YZ41234253@example.com', 17, 'Packets']\n",
      "4\n",
      "['Mark Harper', 'Flat 5, Riverside House, Anytown, AN2 8NE', 'Mark.Harper@example.com', 5, 'Packets']\n",
      "5\n",
      "['Rebecca Jameson', 'The Old Rectory, Humbleside, Marksham, MA14 6LW', 'BeckyJamzie@example.com', 271, 'Individual']\n",
      "6\n",
      "['Willem deVries', '17 Parkside, Newtown-le-Willows, NL18 5TH', 'deVries1955@example.com', 23, 'Packets']\n",
      "7\n",
      "['Jaswinder Singh', '37 Broadwide Road, Rummidge, South Midlands, RU6 7HG', 'JasSingh78@example.com', 72, 'Individual']\n",
      "8\n",
      "['James Colton', '19 Belton Street, Isle of Trees, IT2 5PQ', 'JimmyColton@example.com', 6, 'Packets']\n",
      "9\n",
      "['Ethel Trellis', '1 The Avenue, Foxley Estate, Rummidge, RU4 7WF', 'EthelsPlace@example.com', 2, 'Packets']\n"
     ]
    }
   ],
   "source": [
    "#example\n",
    "for i1,c1 in customers.iterrows():\n",
    "    print(i1)\n",
    "    print(list(c1))"
   ]
  },
  {
   "cell_type": "raw",
   "metadata": {},
   "source": [
    "Coding Task: There is a duplicate entry. In the next block, write code to get rid of duplicate entries. Create an empty list, called *duplicates*, that will check  You will need to use two *for* loops, one inside the other, to loop around the customer entries. Then use an *if* statement to check whether the two customers are identical, and if so, store the line numbers in a list. Finally, use *customers.drop(1,inplace=True)* to delete row 1 of the duplicated rows (don't delete both!). Note that we have to say *inplace* otherwise the original dataframe will be unchanged and a copy returned. This is a rather complex task so please remember to ask us for help. "
   ]
  },
  {
   "cell_type": "code",
   "execution_count": 48,
   "metadata": {
    "ExecuteTime": {
     "end_time": "2021-11-24T15:09:07.905456Z",
     "start_time": "2021-11-24T15:09:07.891712Z"
    }
   },
   "outputs": [],
   "source": [
    "#ANSWER\n",
    "\n",
    "def removeExactDuplicates(dataset): \n",
    "    for i1,s1 in dataset.iterrows():\n",
    "        for i2,s2 in dataset.iterrows():\n",
    "            if ( s1.equals(s2) and (i1!=i2) ):\n",
    "                dataset.drop(1,inplace=True)\n",
    "                \n",
    "removeExactDuplicates(customers)\n",
    "    "
   ]
  },
  {
   "cell_type": "raw",
   "metadata": {},
   "source": [
    "Let's re-set the index column so that there isn't a missing value, then let's print the customers dataframe to "
   ]
  },
  {
   "cell_type": "code",
   "execution_count": 49,
   "metadata": {
    "ExecuteTime": {
     "end_time": "2021-11-24T15:09:14.953746Z",
     "start_time": "2021-11-24T15:09:14.949240Z"
    }
   },
   "outputs": [
    {
     "name": "stdout",
     "output_type": "stream",
     "text": [
      "     Customer Name                                            Address  \\\n",
      "0  Jaswinder Singh               37 Broadwide Road, Rummidge, RU6 7HG   \n",
      "1     Melinda Nagy                 77 Melton Road, Somecity, SM12 1HE   \n",
      "2     Yichen Zhang             6/1 Braeside Court, Scotstoun, SC5 1HE   \n",
      "3      Mark Harper          Flat 5, Riverside House, Anytown, AN2 8NE   \n",
      "4  Rebecca Jameson    The Old Rectory, Humbleside, Marksham, MA14 6LW   \n",
      "5   Willem deVries          17 Parkside, Newtown-le-Willows, NL18 5TH   \n",
      "6  Jaswinder Singh  37 Broadwide Road, Rummidge, South Midlands, R...   \n",
      "7     James Colton           19 Belton Street, Isle of Trees, IT2 5PQ   \n",
      "8    Ethel Trellis     1 The Avenue, Foxley Estate, Rummidge, RU4 7WF   \n",
      "\n",
      "                     Email  Total Orders  Order Type  \n",
      "0   JasSingh78@example.com            57  Individual  \n",
      "1         MelN@example.com           152  Individual  \n",
      "2   YZ41234253@example.com            17     Packets  \n",
      "3  Mark.Harper@example.com             5     Packets  \n",
      "4  BeckyJamzie@example.com           271  Individual  \n",
      "5  deVries1955@example.com            23     Packets  \n",
      "6   JasSingh78@example.com            72  Individual  \n",
      "7  JimmyColton@example.com             6     Packets  \n",
      "8  EthelsPlace@example.com             2     Packets  \n"
     ]
    }
   ],
   "source": [
    "customers.reset_index(inplace=True, drop=True)\n",
    "print(customers)"
   ]
  },
  {
   "cell_type": "markdown",
   "metadata": {},
   "source": [
    "Thinking Task and (optional) Advanced Coding Task (optional): There is a more complex duplicated entry. If you look at the customer \"Jaswinder Singh\" then you will see that there are two similar entries - same name, similar address, same email, but different numbers of orders. What do you think should be done with this entry? I would suggest that it make sense to combine the two rows into one, and add the total number of orders together - this looks like the same customer has created two accounts. Do you agree? This demonstrates that deciding what to do about duplicate and near-duplicate entries isn't trivial - you need to think about the context of the data. If you are confident with coding, write some code in the next block to do this - this is rather challenging, though, so you might want to move on to the next task."
   ]
  },
  {
   "cell_type": "code",
   "execution_count": 50,
   "metadata": {
    "ExecuteTime": {
     "end_time": "2021-11-24T15:10:12.103178Z",
     "start_time": "2021-11-24T15:10:12.100055Z"
    }
   },
   "outputs": [
    {
     "ename": "IndentationError",
     "evalue": "expected an indented block (<ipython-input-50-9eda240e923e>, line 5)",
     "output_type": "error",
     "traceback": [
      "\u001b[0;36m  File \u001b[0;32m\"<ipython-input-50-9eda240e923e>\"\u001b[0;36m, line \u001b[0;32m5\u001b[0m\n\u001b[0;31m    removeDuplicatedEntries(customers)\u001b[0m\n\u001b[0m    ^\u001b[0m\n\u001b[0;31mIndentationError\u001b[0m\u001b[0;31m:\u001b[0m expected an indented block\n"
     ]
    }
   ],
   "source": [
    "#ANSWER we should merge both entries for users with same name\n",
    "\n",
    "def removeDuplicatedEntries(dataset):\n",
    "    #TODO\n",
    "    \n",
    "removeDuplicatedEntries(customers)"
   ]
  },
  {
   "cell_type": "markdown",
   "metadata": {},
   "source": [
    "Coding Task: Now let's start putting the data into the required format. Firstly, let's sort out the order totals. Remember that if people ordered in \"Packets\" then that is packets of twelve coffee pods, and that the final format requires \"Total Orders\" to be in terms of individual pods. So, write some code in the next block that loops through the rows, and if the \"Order Type\" is Packets, multiplies the \"Order Total\" column by 12. For consistency, you should then change the \"Order Type\" to Individual, though you could perhaps neglect this because we are going to delete the \"Order Type\" column soon because it is not needed in the final format."
   ]
  },
  {
   "cell_type": "code",
   "execution_count": 63,
   "metadata": {
    "ExecuteTime": {
     "end_time": "2021-11-24T15:27:20.250266Z",
     "start_time": "2021-11-24T15:27:20.240960Z"
    }
   },
   "outputs": [
    {
     "name": "stdout",
     "output_type": "stream",
     "text": [
      "Individual\n",
      "Individual\n",
      "Packets\n",
      "Customer Name                              Yichen Zhang\n",
      "Address          6/1 Braeside Court, Scotstoun, SC5 1HE\n",
      "Email                            YZ41234253@example.com\n",
      "Total Orders                                         17\n",
      "Order Type                                      Packets\n",
      "Name: 2, dtype: object\n",
      "Packets\n",
      "Customer Name                                  Mark Harper\n",
      "Address          Flat 5, Riverside House, Anytown, AN2 8NE\n",
      "Email                              Mark.Harper@example.com\n",
      "Total Orders                                             5\n",
      "Order Type                                         Packets\n",
      "Name: 3, dtype: object\n",
      "Individual\n",
      "Packets\n",
      "Customer Name                               Willem deVries\n",
      "Address          17 Parkside, Newtown-le-Willows, NL18 5TH\n",
      "Email                              deVries1955@example.com\n",
      "Total Orders                                            23\n",
      "Order Type                                         Packets\n",
      "Name: 5, dtype: object\n",
      "Individual\n",
      "Packets\n",
      "Customer Name                                James Colton\n",
      "Address          19 Belton Street, Isle of Trees, IT2 5PQ\n",
      "Email                             JimmyColton@example.com\n",
      "Total Orders                                            6\n",
      "Order Type                                        Packets\n",
      "Name: 7, dtype: object\n",
      "Packets\n",
      "Customer Name                                     Ethel Trellis\n",
      "Address          1 The Avenue, Foxley Estate, Rummidge, RU4 7WF\n",
      "Email                                   EthelsPlace@example.com\n",
      "Total Orders                                                  2\n",
      "Order Type                                              Packets\n",
      "Name: 8, dtype: object\n",
      "     Customer Name                                            Address  \\\n",
      "0  Jaswinder Singh               37 Broadwide Road, Rummidge, RU6 7HG   \n",
      "1     Melinda Nagy                 77 Melton Road, Somecity, SM12 1HE   \n",
      "2     Yichen Zhang             6/1 Braeside Court, Scotstoun, SC5 1HE   \n",
      "3      Mark Harper          Flat 5, Riverside House, Anytown, AN2 8NE   \n",
      "4  Rebecca Jameson    The Old Rectory, Humbleside, Marksham, MA14 6LW   \n",
      "5   Willem deVries          17 Parkside, Newtown-le-Willows, NL18 5TH   \n",
      "6  Jaswinder Singh  37 Broadwide Road, Rummidge, South Midlands, R...   \n",
      "7     James Colton           19 Belton Street, Isle of Trees, IT2 5PQ   \n",
      "8    Ethel Trellis     1 The Avenue, Foxley Estate, Rummidge, RU4 7WF   \n",
      "\n",
      "                     Email  Total Orders  Order Type  \n",
      "0   JasSingh78@example.com            57  Individual  \n",
      "1         MelN@example.com           152  Individual  \n",
      "2   YZ41234253@example.com            17     Packets  \n",
      "3  Mark.Harper@example.com             5     Packets  \n",
      "4  BeckyJamzie@example.com           271  Individual  \n",
      "5  deVries1955@example.com            23     Packets  \n",
      "6   JasSingh78@example.com            72  Individual  \n",
      "7  JimmyColton@example.com             6     Packets  \n",
      "8  EthelsPlace@example.com             2     Packets  \n"
     ]
    }
   ],
   "source": [
    "#ANSWER\n",
    "def packetsToPods(dataset):\n",
    "    for i1,s1 in dataset.iterrows():\n",
    "        print(s1.at['Order Type'])\n",
    "        if(s1.at['Order Type'] == 'Packets'):\n",
    "            print(s1)\n",
    "            #s1.at['Order Total'] = s1.at['Order Total'] * 12\n",
    "            \n",
    "packetsToPods(customers)\n",
    "print(customers)"
   ]
  },
  {
   "cell_type": "markdown",
   "metadata": {},
   "source": [
    "Coding Task: Read the documentation about the \"drop\" function at https://pandas.pydata.org/docs/reference/api/pandas.DataFrame.drop.html and in the next block delete the \"Order Type\" column."
   ]
  },
  {
   "cell_type": "code",
   "execution_count": 65,
   "metadata": {
    "ExecuteTime": {
     "end_time": "2021-11-24T15:30:58.420234Z",
     "start_time": "2021-11-24T15:30:58.406633Z"
    }
   },
   "outputs": [
    {
     "data": {
      "text/html": [
       "<div>\n",
       "<style scoped>\n",
       "    .dataframe tbody tr th:only-of-type {\n",
       "        vertical-align: middle;\n",
       "    }\n",
       "\n",
       "    .dataframe tbody tr th {\n",
       "        vertical-align: top;\n",
       "    }\n",
       "\n",
       "    .dataframe thead th {\n",
       "        text-align: right;\n",
       "    }\n",
       "</style>\n",
       "<table border=\"1\" class=\"dataframe\">\n",
       "  <thead>\n",
       "    <tr style=\"text-align: right;\">\n",
       "      <th></th>\n",
       "      <th>Customer Name</th>\n",
       "      <th>Address</th>\n",
       "      <th>Email</th>\n",
       "      <th>Total Orders</th>\n",
       "    </tr>\n",
       "  </thead>\n",
       "  <tbody>\n",
       "    <tr>\n",
       "      <th>0</th>\n",
       "      <td>Jaswinder Singh</td>\n",
       "      <td>37 Broadwide Road, Rummidge, RU6 7HG</td>\n",
       "      <td>JasSingh78@example.com</td>\n",
       "      <td>57</td>\n",
       "    </tr>\n",
       "    <tr>\n",
       "      <th>1</th>\n",
       "      <td>Melinda Nagy</td>\n",
       "      <td>77 Melton Road, Somecity, SM12 1HE</td>\n",
       "      <td>MelN@example.com</td>\n",
       "      <td>152</td>\n",
       "    </tr>\n",
       "    <tr>\n",
       "      <th>2</th>\n",
       "      <td>Yichen Zhang</td>\n",
       "      <td>6/1 Braeside Court, Scotstoun, SC5 1HE</td>\n",
       "      <td>YZ41234253@example.com</td>\n",
       "      <td>17</td>\n",
       "    </tr>\n",
       "    <tr>\n",
       "      <th>3</th>\n",
       "      <td>Mark Harper</td>\n",
       "      <td>Flat 5, Riverside House, Anytown, AN2 8NE</td>\n",
       "      <td>Mark.Harper@example.com</td>\n",
       "      <td>5</td>\n",
       "    </tr>\n",
       "    <tr>\n",
       "      <th>4</th>\n",
       "      <td>Rebecca Jameson</td>\n",
       "      <td>The Old Rectory, Humbleside, Marksham, MA14 6LW</td>\n",
       "      <td>BeckyJamzie@example.com</td>\n",
       "      <td>271</td>\n",
       "    </tr>\n",
       "    <tr>\n",
       "      <th>5</th>\n",
       "      <td>Willem deVries</td>\n",
       "      <td>17 Parkside, Newtown-le-Willows, NL18 5TH</td>\n",
       "      <td>deVries1955@example.com</td>\n",
       "      <td>23</td>\n",
       "    </tr>\n",
       "    <tr>\n",
       "      <th>6</th>\n",
       "      <td>Jaswinder Singh</td>\n",
       "      <td>37 Broadwide Road, Rummidge, South Midlands, R...</td>\n",
       "      <td>JasSingh78@example.com</td>\n",
       "      <td>72</td>\n",
       "    </tr>\n",
       "    <tr>\n",
       "      <th>7</th>\n",
       "      <td>James Colton</td>\n",
       "      <td>19 Belton Street, Isle of Trees, IT2 5PQ</td>\n",
       "      <td>JimmyColton@example.com</td>\n",
       "      <td>6</td>\n",
       "    </tr>\n",
       "    <tr>\n",
       "      <th>8</th>\n",
       "      <td>Ethel Trellis</td>\n",
       "      <td>1 The Avenue, Foxley Estate, Rummidge, RU4 7WF</td>\n",
       "      <td>EthelsPlace@example.com</td>\n",
       "      <td>2</td>\n",
       "    </tr>\n",
       "  </tbody>\n",
       "</table>\n",
       "</div>"
      ],
      "text/plain": [
       "     Customer Name                                            Address  \\\n",
       "0  Jaswinder Singh               37 Broadwide Road, Rummidge, RU6 7HG   \n",
       "1     Melinda Nagy                 77 Melton Road, Somecity, SM12 1HE   \n",
       "2     Yichen Zhang             6/1 Braeside Court, Scotstoun, SC5 1HE   \n",
       "3      Mark Harper          Flat 5, Riverside House, Anytown, AN2 8NE   \n",
       "4  Rebecca Jameson    The Old Rectory, Humbleside, Marksham, MA14 6LW   \n",
       "5   Willem deVries          17 Parkside, Newtown-le-Willows, NL18 5TH   \n",
       "6  Jaswinder Singh  37 Broadwide Road, Rummidge, South Midlands, R...   \n",
       "7     James Colton           19 Belton Street, Isle of Trees, IT2 5PQ   \n",
       "8    Ethel Trellis     1 The Avenue, Foxley Estate, Rummidge, RU4 7WF   \n",
       "\n",
       "                     Email  Total Orders  \n",
       "0   JasSingh78@example.com            57  \n",
       "1         MelN@example.com           152  \n",
       "2   YZ41234253@example.com            17  \n",
       "3  Mark.Harper@example.com             5  \n",
       "4  BeckyJamzie@example.com           271  \n",
       "5  deVries1955@example.com            23  \n",
       "6   JasSingh78@example.com            72  \n",
       "7  JimmyColton@example.com             6  \n",
       "8  EthelsPlace@example.com             2  "
      ]
     },
     "execution_count": 65,
     "metadata": {},
     "output_type": "execute_result"
    }
   ],
   "source": [
    "#ANSWER\n",
    "customers.drop(['Order Type'], axis=1)"
   ]
  },
  {
   "cell_type": "markdown",
   "metadata": {},
   "source": [
    "Preliminary Example: In the next step, we are going to split the \"name\" column. You do this using the \"split\" function in python, https://www.w3schools.com/python/ref_string_split.asp Here is an example:"
   ]
  },
  {
   "cell_type": "code",
   "execution_count": 66,
   "metadata": {
    "ExecuteTime": {
     "end_time": "2021-11-24T15:31:11.857362Z",
     "start_time": "2021-11-24T15:31:11.854656Z"
    }
   },
   "outputs": [
    {
     "name": "stdout",
     "output_type": "stream",
     "text": [
      "['Colin', 'Johnson']\n"
     ]
    }
   ],
   "source": [
    "name = \"Colin Johnson\"\n",
    "splitName = name.split()\n",
    "print(splitName)"
   ]
  },
  {
   "cell_type": "markdown",
   "metadata": {},
   "source": [
    "Coding Task: Now, we need to create two new columns consisting of the first and last names (we are really lucky here, everyone in our data has just one first name and one last name, and they are clearly separated by a space. In real data, this is a much more complex task!). In the next block, write a *for* loop to go through the \"Customer Name\" column, and make a list of the first names and a list of the last names. Call these lists *firstNames* and *lastNames*."
   ]
  },
  {
   "cell_type": "code",
   "execution_count": 76,
   "metadata": {
    "ExecuteTime": {
     "end_time": "2021-11-24T15:37:23.435968Z",
     "start_time": "2021-11-24T15:37:23.430382Z"
    }
   },
   "outputs": [],
   "source": [
    "#ANSWER\n",
    "firstNames = list()\n",
    "lastNames = list()\n",
    "for i1,s1 in customers.iterrows():\n",
    "     firstNames.append(s1.at['Customer Name'].split()[0])\n",
    "     lastNames.append(s1.at['Customer Name'].split()[1])\n",
    "    "
   ]
  },
  {
   "cell_type": "markdown",
   "metadata": {},
   "source": [
    "In the next block, we add these new columns to the customers DataFrame."
   ]
  },
  {
   "cell_type": "code",
   "execution_count": 77,
   "metadata": {
    "ExecuteTime": {
     "end_time": "2021-11-24T15:37:24.968817Z",
     "start_time": "2021-11-24T15:37:24.961778Z"
    }
   },
   "outputs": [
    {
     "name": "stdout",
     "output_type": "stream",
     "text": [
      "     Customer Name                                            Address  \\\n",
      "0  Jaswinder Singh               37 Broadwide Road, Rummidge, RU6 7HG   \n",
      "1     Melinda Nagy                 77 Melton Road, Somecity, SM12 1HE   \n",
      "2     Yichen Zhang             6/1 Braeside Court, Scotstoun, SC5 1HE   \n",
      "3      Mark Harper          Flat 5, Riverside House, Anytown, AN2 8NE   \n",
      "4  Rebecca Jameson    The Old Rectory, Humbleside, Marksham, MA14 6LW   \n",
      "5   Willem deVries          17 Parkside, Newtown-le-Willows, NL18 5TH   \n",
      "6  Jaswinder Singh  37 Broadwide Road, Rummidge, South Midlands, R...   \n",
      "7     James Colton           19 Belton Street, Isle of Trees, IT2 5PQ   \n",
      "8    Ethel Trellis     1 The Avenue, Foxley Estate, Rummidge, RU4 7WF   \n",
      "\n",
      "                     Email  Total Orders  Order Type First Name Last Name  \n",
      "0   JasSingh78@example.com            57  Individual  Jaswinder     Singh  \n",
      "1         MelN@example.com           152  Individual    Melinda      Nagy  \n",
      "2   YZ41234253@example.com            17     Packets     Yichen     Zhang  \n",
      "3  Mark.Harper@example.com             5     Packets       Mark    Harper  \n",
      "4  BeckyJamzie@example.com           271  Individual    Rebecca   Jameson  \n",
      "5  deVries1955@example.com            23     Packets     Willem   deVries  \n",
      "6   JasSingh78@example.com            72  Individual  Jaswinder     Singh  \n",
      "7  JimmyColton@example.com             6     Packets      James    Colton  \n",
      "8  EthelsPlace@example.com             2     Packets      Ethel   Trellis  \n"
     ]
    }
   ],
   "source": [
    "customers[\"First Name\"] = firstNames\n",
    "customers[\"Last Name\"] = lastNames\n",
    "print(customers)"
   ]
  },
  {
   "cell_type": "markdown",
   "metadata": {},
   "source": [
    "Coding Task: In the next block, remove the original \"Customer Name\" column"
   ]
  },
  {
   "cell_type": "code",
   "execution_count": 78,
   "metadata": {
    "ExecuteTime": {
     "end_time": "2021-11-24T15:37:50.498986Z",
     "start_time": "2021-11-24T15:37:50.487658Z"
    }
   },
   "outputs": [
    {
     "data": {
      "text/html": [
       "<div>\n",
       "<style scoped>\n",
       "    .dataframe tbody tr th:only-of-type {\n",
       "        vertical-align: middle;\n",
       "    }\n",
       "\n",
       "    .dataframe tbody tr th {\n",
       "        vertical-align: top;\n",
       "    }\n",
       "\n",
       "    .dataframe thead th {\n",
       "        text-align: right;\n",
       "    }\n",
       "</style>\n",
       "<table border=\"1\" class=\"dataframe\">\n",
       "  <thead>\n",
       "    <tr style=\"text-align: right;\">\n",
       "      <th></th>\n",
       "      <th>Address</th>\n",
       "      <th>Email</th>\n",
       "      <th>Total Orders</th>\n",
       "      <th>Order Type</th>\n",
       "      <th>First Name</th>\n",
       "      <th>Last Name</th>\n",
       "    </tr>\n",
       "  </thead>\n",
       "  <tbody>\n",
       "    <tr>\n",
       "      <th>0</th>\n",
       "      <td>37 Broadwide Road, Rummidge, RU6 7HG</td>\n",
       "      <td>JasSingh78@example.com</td>\n",
       "      <td>57</td>\n",
       "      <td>Individual</td>\n",
       "      <td>Jaswinder</td>\n",
       "      <td>Singh</td>\n",
       "    </tr>\n",
       "    <tr>\n",
       "      <th>1</th>\n",
       "      <td>77 Melton Road, Somecity, SM12 1HE</td>\n",
       "      <td>MelN@example.com</td>\n",
       "      <td>152</td>\n",
       "      <td>Individual</td>\n",
       "      <td>Melinda</td>\n",
       "      <td>Nagy</td>\n",
       "    </tr>\n",
       "    <tr>\n",
       "      <th>2</th>\n",
       "      <td>6/1 Braeside Court, Scotstoun, SC5 1HE</td>\n",
       "      <td>YZ41234253@example.com</td>\n",
       "      <td>17</td>\n",
       "      <td>Packets</td>\n",
       "      <td>Yichen</td>\n",
       "      <td>Zhang</td>\n",
       "    </tr>\n",
       "    <tr>\n",
       "      <th>3</th>\n",
       "      <td>Flat 5, Riverside House, Anytown, AN2 8NE</td>\n",
       "      <td>Mark.Harper@example.com</td>\n",
       "      <td>5</td>\n",
       "      <td>Packets</td>\n",
       "      <td>Mark</td>\n",
       "      <td>Harper</td>\n",
       "    </tr>\n",
       "    <tr>\n",
       "      <th>4</th>\n",
       "      <td>The Old Rectory, Humbleside, Marksham, MA14 6LW</td>\n",
       "      <td>BeckyJamzie@example.com</td>\n",
       "      <td>271</td>\n",
       "      <td>Individual</td>\n",
       "      <td>Rebecca</td>\n",
       "      <td>Jameson</td>\n",
       "    </tr>\n",
       "    <tr>\n",
       "      <th>5</th>\n",
       "      <td>17 Parkside, Newtown-le-Willows, NL18 5TH</td>\n",
       "      <td>deVries1955@example.com</td>\n",
       "      <td>23</td>\n",
       "      <td>Packets</td>\n",
       "      <td>Willem</td>\n",
       "      <td>deVries</td>\n",
       "    </tr>\n",
       "    <tr>\n",
       "      <th>6</th>\n",
       "      <td>37 Broadwide Road, Rummidge, South Midlands, R...</td>\n",
       "      <td>JasSingh78@example.com</td>\n",
       "      <td>72</td>\n",
       "      <td>Individual</td>\n",
       "      <td>Jaswinder</td>\n",
       "      <td>Singh</td>\n",
       "    </tr>\n",
       "    <tr>\n",
       "      <th>7</th>\n",
       "      <td>19 Belton Street, Isle of Trees, IT2 5PQ</td>\n",
       "      <td>JimmyColton@example.com</td>\n",
       "      <td>6</td>\n",
       "      <td>Packets</td>\n",
       "      <td>James</td>\n",
       "      <td>Colton</td>\n",
       "    </tr>\n",
       "    <tr>\n",
       "      <th>8</th>\n",
       "      <td>1 The Avenue, Foxley Estate, Rummidge, RU4 7WF</td>\n",
       "      <td>EthelsPlace@example.com</td>\n",
       "      <td>2</td>\n",
       "      <td>Packets</td>\n",
       "      <td>Ethel</td>\n",
       "      <td>Trellis</td>\n",
       "    </tr>\n",
       "  </tbody>\n",
       "</table>\n",
       "</div>"
      ],
      "text/plain": [
       "                                             Address                    Email  \\\n",
       "0               37 Broadwide Road, Rummidge, RU6 7HG   JasSingh78@example.com   \n",
       "1                 77 Melton Road, Somecity, SM12 1HE         MelN@example.com   \n",
       "2             6/1 Braeside Court, Scotstoun, SC5 1HE   YZ41234253@example.com   \n",
       "3          Flat 5, Riverside House, Anytown, AN2 8NE  Mark.Harper@example.com   \n",
       "4    The Old Rectory, Humbleside, Marksham, MA14 6LW  BeckyJamzie@example.com   \n",
       "5          17 Parkside, Newtown-le-Willows, NL18 5TH  deVries1955@example.com   \n",
       "6  37 Broadwide Road, Rummidge, South Midlands, R...   JasSingh78@example.com   \n",
       "7           19 Belton Street, Isle of Trees, IT2 5PQ  JimmyColton@example.com   \n",
       "8     1 The Avenue, Foxley Estate, Rummidge, RU4 7WF  EthelsPlace@example.com   \n",
       "\n",
       "   Total Orders  Order Type First Name Last Name  \n",
       "0            57  Individual  Jaswinder     Singh  \n",
       "1           152  Individual    Melinda      Nagy  \n",
       "2            17     Packets     Yichen     Zhang  \n",
       "3             5     Packets       Mark    Harper  \n",
       "4           271  Individual    Rebecca   Jameson  \n",
       "5            23     Packets     Willem   deVries  \n",
       "6            72  Individual  Jaswinder     Singh  \n",
       "7             6     Packets      James    Colton  \n",
       "8             2     Packets      Ethel   Trellis  "
      ]
     },
     "execution_count": 78,
     "metadata": {},
     "output_type": "execute_result"
    }
   ],
   "source": [
    "#ANSWER\n",
    "customers.drop(['Customer Name'], axis=1)"
   ]
  },
  {
   "cell_type": "markdown",
   "metadata": {},
   "source": [
    "Coding Task: Next, we need to re-order the columns. This is done using the *reindex* method on a dataframe. This takes a list of the column titles in the order that we want to put them in. In the next block, create a list called *newOrder* with the columns titles in the right order, using the \"Background Information: Interface Format\" section at the beginning of this sheet to find out what these are. Then the next block will apply the reindex method."
   ]
  },
  {
   "cell_type": "code",
   "execution_count": 83,
   "metadata": {
    "ExecuteTime": {
     "end_time": "2021-11-24T15:40:57.677435Z",
     "start_time": "2021-11-24T15:40:57.675366Z"
    }
   },
   "outputs": [],
   "source": [
    "#ANSWER\n",
    "newOrder = [\"First Name\", \"Last Name\", \"Address\", \"Email\",\t\"Total Orders\",\t\"Order Type\"]"
   ]
  },
  {
   "cell_type": "code",
   "execution_count": 84,
   "metadata": {
    "ExecuteTime": {
     "end_time": "2021-11-24T15:40:59.383199Z",
     "start_time": "2021-11-24T15:40:59.378040Z"
    }
   },
   "outputs": [
    {
     "name": "stdout",
     "output_type": "stream",
     "text": [
      "  First Name Last Name                                            Address  \\\n",
      "0  Jaswinder     Singh               37 Broadwide Road, Rummidge, RU6 7HG   \n",
      "1    Melinda      Nagy                 77 Melton Road, Somecity, SM12 1HE   \n",
      "2     Yichen     Zhang             6/1 Braeside Court, Scotstoun, SC5 1HE   \n",
      "3       Mark    Harper          Flat 5, Riverside House, Anytown, AN2 8NE   \n",
      "4    Rebecca   Jameson    The Old Rectory, Humbleside, Marksham, MA14 6LW   \n",
      "5     Willem   deVries          17 Parkside, Newtown-le-Willows, NL18 5TH   \n",
      "6  Jaswinder     Singh  37 Broadwide Road, Rummidge, South Midlands, R...   \n",
      "7      James    Colton           19 Belton Street, Isle of Trees, IT2 5PQ   \n",
      "8      Ethel   Trellis     1 The Avenue, Foxley Estate, Rummidge, RU4 7WF   \n",
      "\n",
      "                     Email  Total Orders  Order Type  \n",
      "0   JasSingh78@example.com            57  Individual  \n",
      "1         MelN@example.com           152  Individual  \n",
      "2   YZ41234253@example.com            17     Packets  \n",
      "3  Mark.Harper@example.com             5     Packets  \n",
      "4  BeckyJamzie@example.com           271  Individual  \n",
      "5  deVries1955@example.com            23     Packets  \n",
      "6   JasSingh78@example.com            72  Individual  \n",
      "7  JimmyColton@example.com             6     Packets  \n",
      "8  EthelsPlace@example.com             2     Packets  \n"
     ]
    }
   ],
   "source": [
    "customers = customers.reindex(columns=newOrder)\n",
    "print(customers)"
   ]
  },
  {
   "cell_type": "markdown",
   "metadata": {},
   "source": [
    "Coding task Okay, the final part of the project is to write this to a csv file. Look at https://pandas.pydata.org/docs/reference/api/pandas.DataFrame.to_csv.html to find out how to do this, and write a line of code in the next block to do this. Make sure to use the \"index=False\" option so that you do not include a numerical index column."
   ]
  },
  {
   "cell_type": "code",
   "execution_count": 1,
   "metadata": {},
   "outputs": [],
   "source": [
    "#ANSWER\n",
    "customers.to_csv(\"cleanedCustomerData.csv)"
   ]
  },
  {
   "cell_type": "markdown",
   "metadata": {},
   "source": [
    "We are finished here. Look in the folder to check that the csv file has been correctly written, and then go back to the command line to upload the csv file to the GitHub project."
   ]
  }
 ],
 "metadata": {
  "kernelspec": {
   "display_name": "Python 3",
   "language": "python",
   "name": "python3"
  },
  "language_info": {
   "codemirror_mode": {
    "name": "ipython",
    "version": 3
   },
   "file_extension": ".py",
   "mimetype": "text/x-python",
   "name": "python",
   "nbconvert_exporter": "python",
   "pygments_lexer": "ipython3",
   "version": "3.8.8"
  },
  "toc": {
   "base_numbering": 1,
   "nav_menu": {},
   "number_sections": true,
   "sideBar": true,
   "skip_h1_title": false,
   "title_cell": "Table of Contents",
   "title_sidebar": "Contents",
   "toc_cell": false,
   "toc_position": {},
   "toc_section_display": true,
   "toc_window_display": false
  },
  "varInspector": {
   "cols": {
    "lenName": 16,
    "lenType": 16,
    "lenVar": 40
   },
   "kernels_config": {
    "python": {
     "delete_cmd_postfix": "",
     "delete_cmd_prefix": "del ",
     "library": "var_list.py",
     "varRefreshCmd": "print(var_dic_list())"
    },
    "r": {
     "delete_cmd_postfix": ") ",
     "delete_cmd_prefix": "rm(",
     "library": "var_list.r",
     "varRefreshCmd": "cat(var_dic_list()) "
    }
   },
   "types_to_exclude": [
    "module",
    "function",
    "builtin_function_or_method",
    "instance",
    "_Feature"
   ],
   "window_display": false
  }
 },
 "nbformat": 4,
 "nbformat_minor": 4
}
